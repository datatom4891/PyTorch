{
 "cells": [
  {
   "cell_type": "code",
   "execution_count": 39,
   "id": "e259adce-f6a5-4645-b45f-ae4aadc49b45",
   "metadata": {},
   "outputs": [],
   "source": [
    "import os\n",
    "import pandas as pd\n",
    "import matplotlib.pyplot as plt\n",
    "\n",
    "from datasets import load_dataset\n",
    "from transformers import AutoTokenizer\n",
    "from sklearn.model_selection import train_test_split"
   ]
  },
  {
   "cell_type": "markdown",
   "id": "787f2b84-06df-44d9-b9ad-ab6ff0fc1d55",
   "metadata": {},
   "source": [
    "## **User Defined Functions**"
   ]
  },
  {
   "cell_type": "markdown",
   "id": "ed694ede-287f-4204-97a8-5a71de8857cc",
   "metadata": {},
   "source": [
    "### **Non-Lambda Functions**"
   ]
  },
  {
   "cell_type": "code",
   "execution_count": 3,
   "id": "6e5208bd-51d8-4b17-99d8-c1bfb23ce0fa",
   "metadata": {},
   "outputs": [],
   "source": [
    "def token_count(text):\n",
    "    result_dict = tokenizer(text, padding=False, truncation=False)\n",
    "    return len(result_dict['input_ids'])"
   ]
  },
  {
   "cell_type": "markdown",
   "id": "67c385da-3001-4a2b-80e4-d30b123b19fa",
   "metadata": {},
   "source": [
    "### **Lambda Functions**"
   ]
  },
  {
   "cell_type": "code",
   "execution_count": 4,
   "id": "b33e0442-649d-48f7-8197-4ba8ea31b3ef",
   "metadata": {},
   "outputs": [],
   "source": [
    "whitespace_split_n_count_tokens = lambda x : len(x.split(' '))"
   ]
  },
  {
   "cell_type": "code",
   "execution_count": 5,
   "id": "a0aed9cb-c399-4387-9393-75d0962e82ca",
   "metadata": {},
   "outputs": [],
   "source": [
    "polarity_label = lambda x: 'positive' if x == 1 else 'negative'"
   ]
  },
  {
   "cell_type": "markdown",
   "id": "87740101-11c8-4eda-ad6e-dfc4ca322d08",
   "metadata": {},
   "source": [
    "## **Load Yelp Dataset from Hugging Face Hub**"
   ]
  },
  {
   "cell_type": "code",
   "execution_count": 2,
   "id": "4f095be5-0cca-4eff-a65f-549188ab1492",
   "metadata": {},
   "outputs": [
    {
     "data": {
      "text/plain": [
       "DatasetDict({\n",
       "    train: Dataset({\n",
       "        features: ['text', 'label'],\n",
       "        num_rows: 560000\n",
       "    })\n",
       "    test: Dataset({\n",
       "        features: ['text', 'label'],\n",
       "        num_rows: 38000\n",
       "    })\n",
       "})"
      ]
     },
     "execution_count": 2,
     "metadata": {},
     "output_type": "execute_result"
    }
   ],
   "source": [
    "yelp = load_dataset(\"fancyzhx/yelp_polarity\")\n",
    "yelp"
   ]
  },
  {
   "cell_type": "code",
   "execution_count": 6,
   "id": "7b0a6c25-5243-4649-a585-95c79778040e",
   "metadata": {},
   "outputs": [],
   "source": [
    "yelp.set_format(type='pandas')\n",
    "yelp_train = yelp['train'][:]\n",
    "yelp_test = yelp['test'][:]"
   ]
  },
  {
   "cell_type": "code",
   "execution_count": 7,
   "id": "e0c48618-e5cc-48d9-a84d-de0ab08c362b",
   "metadata": {},
   "outputs": [
    {
     "data": {
      "text/html": [
       "<div>\n",
       "<style scoped>\n",
       "    .dataframe tbody tr th:only-of-type {\n",
       "        vertical-align: middle;\n",
       "    }\n",
       "\n",
       "    .dataframe tbody tr th {\n",
       "        vertical-align: top;\n",
       "    }\n",
       "\n",
       "    .dataframe thead th {\n",
       "        text-align: right;\n",
       "    }\n",
       "</style>\n",
       "<table border=\"1\" class=\"dataframe\">\n",
       "  <thead>\n",
       "    <tr style=\"text-align: right;\">\n",
       "      <th></th>\n",
       "      <th>text</th>\n",
       "      <th>label</th>\n",
       "      <th>polarity_label</th>\n",
       "    </tr>\n",
       "  </thead>\n",
       "  <tbody>\n",
       "    <tr>\n",
       "      <th>0</th>\n",
       "      <td>Unfortunately, the frustration of being Dr. Go...</td>\n",
       "      <td>0</td>\n",
       "      <td>negative</td>\n",
       "    </tr>\n",
       "    <tr>\n",
       "      <th>1</th>\n",
       "      <td>Been going to Dr. Goldberg for over 10 years. ...</td>\n",
       "      <td>1</td>\n",
       "      <td>positive</td>\n",
       "    </tr>\n",
       "    <tr>\n",
       "      <th>2</th>\n",
       "      <td>I don't know what Dr. Goldberg was like before...</td>\n",
       "      <td>0</td>\n",
       "      <td>negative</td>\n",
       "    </tr>\n",
       "    <tr>\n",
       "      <th>3</th>\n",
       "      <td>I'm writing this review to give you a heads up...</td>\n",
       "      <td>0</td>\n",
       "      <td>negative</td>\n",
       "    </tr>\n",
       "    <tr>\n",
       "      <th>4</th>\n",
       "      <td>All the food is great here. But the best thing...</td>\n",
       "      <td>1</td>\n",
       "      <td>positive</td>\n",
       "    </tr>\n",
       "  </tbody>\n",
       "</table>\n",
       "</div>"
      ],
      "text/plain": [
       "                                                text  label polarity_label\n",
       "0  Unfortunately, the frustration of being Dr. Go...      0       negative\n",
       "1  Been going to Dr. Goldberg for over 10 years. ...      1       positive\n",
       "2  I don't know what Dr. Goldberg was like before...      0       negative\n",
       "3  I'm writing this review to give you a heads up...      0       negative\n",
       "4  All the food is great here. But the best thing...      1       positive"
      ]
     },
     "execution_count": 7,
     "metadata": {},
     "output_type": "execute_result"
    }
   ],
   "source": [
    "yelp_train['polarity_label'] = yelp_train['label'].apply(polarity_label)\n",
    "yelp_train.head()"
   ]
  },
  {
   "cell_type": "code",
   "execution_count": 8,
   "id": "5332e3de-fe2c-4843-a1b8-93682a2c36d8",
   "metadata": {},
   "outputs": [
    {
     "data": {
      "text/html": [
       "<div>\n",
       "<style scoped>\n",
       "    .dataframe tbody tr th:only-of-type {\n",
       "        vertical-align: middle;\n",
       "    }\n",
       "\n",
       "    .dataframe tbody tr th {\n",
       "        vertical-align: top;\n",
       "    }\n",
       "\n",
       "    .dataframe thead th {\n",
       "        text-align: right;\n",
       "    }\n",
       "</style>\n",
       "<table border=\"1\" class=\"dataframe\">\n",
       "  <thead>\n",
       "    <tr style=\"text-align: right;\">\n",
       "      <th></th>\n",
       "      <th>text</th>\n",
       "      <th>label</th>\n",
       "      <th>polarity_label</th>\n",
       "    </tr>\n",
       "  </thead>\n",
       "  <tbody>\n",
       "    <tr>\n",
       "      <th>0</th>\n",
       "      <td>Contrary to other reviews, I have zero complai...</td>\n",
       "      <td>1</td>\n",
       "      <td>positive</td>\n",
       "    </tr>\n",
       "    <tr>\n",
       "      <th>1</th>\n",
       "      <td>Last summer I had an appointment to get new ti...</td>\n",
       "      <td>0</td>\n",
       "      <td>negative</td>\n",
       "    </tr>\n",
       "    <tr>\n",
       "      <th>2</th>\n",
       "      <td>Friendly staff, same starbucks fair you get an...</td>\n",
       "      <td>1</td>\n",
       "      <td>positive</td>\n",
       "    </tr>\n",
       "    <tr>\n",
       "      <th>3</th>\n",
       "      <td>The food is good. Unfortunately the service is...</td>\n",
       "      <td>0</td>\n",
       "      <td>negative</td>\n",
       "    </tr>\n",
       "    <tr>\n",
       "      <th>4</th>\n",
       "      <td>Even when we didn't have a car Filene's Baseme...</td>\n",
       "      <td>1</td>\n",
       "      <td>positive</td>\n",
       "    </tr>\n",
       "  </tbody>\n",
       "</table>\n",
       "</div>"
      ],
      "text/plain": [
       "                                                text  label polarity_label\n",
       "0  Contrary to other reviews, I have zero complai...      1       positive\n",
       "1  Last summer I had an appointment to get new ti...      0       negative\n",
       "2  Friendly staff, same starbucks fair you get an...      1       positive\n",
       "3  The food is good. Unfortunately the service is...      0       negative\n",
       "4  Even when we didn't have a car Filene's Baseme...      1       positive"
      ]
     },
     "execution_count": 8,
     "metadata": {},
     "output_type": "execute_result"
    }
   ],
   "source": [
    "yelp_test['polarity_label'] = yelp_test['label'].apply(polarity_label)\n",
    "yelp_test.head()"
   ]
  },
  {
   "cell_type": "code",
   "execution_count": 9,
   "id": "b171737f-7624-4dc9-963a-ac5d9aaeb571",
   "metadata": {},
   "outputs": [
    {
     "data": {
      "text/plain": [
       "polarity_label\n",
       "negative    280000\n",
       "positive    280000\n",
       "Name: count, dtype: int64"
      ]
     },
     "execution_count": 9,
     "metadata": {},
     "output_type": "execute_result"
    }
   ],
   "source": [
    "yelp_train.polarity_label.value_counts()"
   ]
  },
  {
   "cell_type": "code",
   "execution_count": 10,
   "id": "0192c6b5-7540-4512-9eb7-217973e70c72",
   "metadata": {},
   "outputs": [
    {
     "data": {
      "text/plain": [
       "polarity_label\n",
       "positive    19000\n",
       "negative    19000\n",
       "Name: count, dtype: int64"
      ]
     },
     "execution_count": 10,
     "metadata": {},
     "output_type": "execute_result"
    }
   ],
   "source": [
    "yelp_test.polarity_label.value_counts()"
   ]
  },
  {
   "cell_type": "markdown",
   "id": "a62e71b3-484a-43ff-a80e-86fd1c684fd3",
   "metadata": {},
   "source": [
    "## **Token Count Analysis**"
   ]
  },
  {
   "cell_type": "markdown",
   "id": "bec07d6d-bb50-4b4e-8ee3-a0ef7cd2208c",
   "metadata": {},
   "source": [
    "### **Tokenize Reviews by Whitespace**"
   ]
  },
  {
   "cell_type": "code",
   "execution_count": 12,
   "id": "c7c9a1f9-0ee5-46e5-a5ea-4a46dfdc5d56",
   "metadata": {},
   "outputs": [
    {
     "data": {
      "text/html": [
       "<div>\n",
       "<style scoped>\n",
       "    .dataframe tbody tr th:only-of-type {\n",
       "        vertical-align: middle;\n",
       "    }\n",
       "\n",
       "    .dataframe tbody tr th {\n",
       "        vertical-align: top;\n",
       "    }\n",
       "\n",
       "    .dataframe thead th {\n",
       "        text-align: right;\n",
       "    }\n",
       "</style>\n",
       "<table border=\"1\" class=\"dataframe\">\n",
       "  <thead>\n",
       "    <tr style=\"text-align: right;\">\n",
       "      <th></th>\n",
       "      <th>text</th>\n",
       "      <th>label</th>\n",
       "      <th>polarity_label</th>\n",
       "      <th>approx_token_count</th>\n",
       "    </tr>\n",
       "  </thead>\n",
       "  <tbody>\n",
       "    <tr>\n",
       "      <th>0</th>\n",
       "      <td>Unfortunately, the frustration of being Dr. Go...</td>\n",
       "      <td>0</td>\n",
       "      <td>negative</td>\n",
       "      <td>122</td>\n",
       "    </tr>\n",
       "    <tr>\n",
       "      <th>1</th>\n",
       "      <td>Been going to Dr. Goldberg for over 10 years. ...</td>\n",
       "      <td>1</td>\n",
       "      <td>positive</td>\n",
       "      <td>97</td>\n",
       "    </tr>\n",
       "    <tr>\n",
       "      <th>2</th>\n",
       "      <td>I don't know what Dr. Goldberg was like before...</td>\n",
       "      <td>0</td>\n",
       "      <td>negative</td>\n",
       "      <td>212</td>\n",
       "    </tr>\n",
       "    <tr>\n",
       "      <th>3</th>\n",
       "      <td>I'm writing this review to give you a heads up...</td>\n",
       "      <td>0</td>\n",
       "      <td>negative</td>\n",
       "      <td>193</td>\n",
       "    </tr>\n",
       "    <tr>\n",
       "      <th>4</th>\n",
       "      <td>All the food is great here. But the best thing...</td>\n",
       "      <td>1</td>\n",
       "      <td>positive</td>\n",
       "      <td>80</td>\n",
       "    </tr>\n",
       "  </tbody>\n",
       "</table>\n",
       "</div>"
      ],
      "text/plain": [
       "                                                text  label polarity_label  \\\n",
       "0  Unfortunately, the frustration of being Dr. Go...      0       negative   \n",
       "1  Been going to Dr. Goldberg for over 10 years. ...      1       positive   \n",
       "2  I don't know what Dr. Goldberg was like before...      0       negative   \n",
       "3  I'm writing this review to give you a heads up...      0       negative   \n",
       "4  All the food is great here. But the best thing...      1       positive   \n",
       "\n",
       "   approx_token_count  \n",
       "0                 122  \n",
       "1                  97  \n",
       "2                 212  \n",
       "3                 193  \n",
       "4                  80  "
      ]
     },
     "execution_count": 12,
     "metadata": {},
     "output_type": "execute_result"
    }
   ],
   "source": [
    "yelp_train['approx_token_count'] = yelp_train['text'].apply(whitespace_split_n_count_tokens)\n",
    "yelp_train.head()"
   ]
  },
  {
   "cell_type": "code",
   "execution_count": 13,
   "id": "acc57475-ea7f-47af-a8dc-48d5750690c7",
   "metadata": {},
   "outputs": [
    {
     "data": {
      "text/html": [
       "<div>\n",
       "<style scoped>\n",
       "    .dataframe tbody tr th:only-of-type {\n",
       "        vertical-align: middle;\n",
       "    }\n",
       "\n",
       "    .dataframe tbody tr th {\n",
       "        vertical-align: top;\n",
       "    }\n",
       "\n",
       "    .dataframe thead th {\n",
       "        text-align: right;\n",
       "    }\n",
       "</style>\n",
       "<table border=\"1\" class=\"dataframe\">\n",
       "  <thead>\n",
       "    <tr style=\"text-align: right;\">\n",
       "      <th></th>\n",
       "      <th>text</th>\n",
       "      <th>label</th>\n",
       "      <th>polarity_label</th>\n",
       "      <th>approx_token_count</th>\n",
       "    </tr>\n",
       "  </thead>\n",
       "  <tbody>\n",
       "    <tr>\n",
       "      <th>0</th>\n",
       "      <td>Contrary to other reviews, I have zero complai...</td>\n",
       "      <td>1</td>\n",
       "      <td>positive</td>\n",
       "      <td>126</td>\n",
       "    </tr>\n",
       "    <tr>\n",
       "      <th>1</th>\n",
       "      <td>Last summer I had an appointment to get new ti...</td>\n",
       "      <td>0</td>\n",
       "      <td>negative</td>\n",
       "      <td>72</td>\n",
       "    </tr>\n",
       "    <tr>\n",
       "      <th>2</th>\n",
       "      <td>Friendly staff, same starbucks fair you get an...</td>\n",
       "      <td>1</td>\n",
       "      <td>positive</td>\n",
       "      <td>16</td>\n",
       "    </tr>\n",
       "    <tr>\n",
       "      <th>3</th>\n",
       "      <td>The food is good. Unfortunately the service is...</td>\n",
       "      <td>0</td>\n",
       "      <td>negative</td>\n",
       "      <td>53</td>\n",
       "    </tr>\n",
       "    <tr>\n",
       "      <th>4</th>\n",
       "      <td>Even when we didn't have a car Filene's Baseme...</td>\n",
       "      <td>1</td>\n",
       "      <td>positive</td>\n",
       "      <td>138</td>\n",
       "    </tr>\n",
       "  </tbody>\n",
       "</table>\n",
       "</div>"
      ],
      "text/plain": [
       "                                                text  label polarity_label  \\\n",
       "0  Contrary to other reviews, I have zero complai...      1       positive   \n",
       "1  Last summer I had an appointment to get new ti...      0       negative   \n",
       "2  Friendly staff, same starbucks fair you get an...      1       positive   \n",
       "3  The food is good. Unfortunately the service is...      0       negative   \n",
       "4  Even when we didn't have a car Filene's Baseme...      1       positive   \n",
       "\n",
       "   approx_token_count  \n",
       "0                 126  \n",
       "1                  72  \n",
       "2                  16  \n",
       "3                  53  \n",
       "4                 138  "
      ]
     },
     "execution_count": 13,
     "metadata": {},
     "output_type": "execute_result"
    }
   ],
   "source": [
    "yelp_test['approx_token_count'] = yelp_test['text'].apply(whitespace_split_n_count_tokens)\n",
    "yelp_test.head()"
   ]
  },
  {
   "cell_type": "markdown",
   "id": "be5b4578-9704-4803-be54-c90f6a071998",
   "metadata": {},
   "source": [
    "#### **Full Train Split**"
   ]
  },
  {
   "cell_type": "code",
   "execution_count": 15,
   "id": "e73ceca6-7b21-46a9-a995-5e3ce3a6e5fc",
   "metadata": {},
   "outputs": [
    {
     "data": {
      "image/png": "[encoded data removed]",
      "text/plain": [
       "<Figure size 640x480 with 1 Axes>"
      ]
     },
     "metadata": {},
     "output_type": "display_data"
    }
   ],
   "source": [
    "plt.hist(yelp_train['approx_token_count'])\n",
    "plt.xlabel('approx_token_count')\n",
    "plt.ylabel('yelp_review_count')\n",
    "plt.show()"
   ]
  },
  {
   "cell_type": "markdown",
   "id": "29585460-eea1-4967-8138-bafe369f20a0",
   "metadata": {},
   "source": [
    "#### **Train Split - Negative Reviews**"
   ]
  },
  {
   "cell_type": "code",
   "execution_count": 16,
   "id": "e80ed1d1-ded9-4169-84e8-9a1ef964e694",
   "metadata": {},
   "outputs": [
    {
     "data": {
      "image/png": "[encoded data removed]",
      "text/plain": [
       "<Figure size 640x480 with 1 Axes>"
      ]
     },
     "metadata": {},
     "output_type": "display_data"
    }
   ],
   "source": [
    "plt.hist(yelp_train[yelp_train['polarity_label']=='negative']['approx_token_count'])\n",
    "plt.xlabel('approx_token_count')\n",
    "plt.ylabel('yelp_review_count')\n",
    "plt.show()"
   ]
  },
  {
   "cell_type": "markdown",
   "id": "5f1b164e-a7fb-4f54-840d-62b66bc4479f",
   "metadata": {},
   "source": [
    "#### **Train Split - Positive Reviews**"
   ]
  },
  {
   "cell_type": "code",
   "execution_count": 17,
   "id": "542b3ac6-8a01-4133-81bb-3577478fe0cb",
   "metadata": {},
   "outputs": [
    {
     "data": {
      "image/png": "[encoded data removed]",
      "text/plain": [
       "<Figure size 640x480 with 1 Axes>"
      ]
     },
     "metadata": {},
     "output_type": "display_data"
    }
   ],
   "source": [
    "plt.hist(yelp_train[yelp_train['polarity_label']=='positive']['approx_token_count'])\n",
    "plt.xlabel('approx_token_count')\n",
    "plt.ylabel('yelp_review_count')\n",
    "plt.show()"
   ]
  },
  {
   "cell_type": "markdown",
   "id": "ac1e5e2e-b9fe-4ab4-9848-edbb6596e243",
   "metadata": {},
   "source": [
    "#### **Full Test Split**"
   ]
  },
  {
   "cell_type": "code",
   "execution_count": 18,
   "id": "4ccf9333-0c17-47f7-8449-eabdeda33842",
   "metadata": {},
   "outputs": [
    {
     "data": {
      "image/png": "[encoded data removed]",
      "text/plain": [
       "<Figure size 640x480 with 1 Axes>"
      ]
     },
     "metadata": {},
     "output_type": "display_data"
    }
   ],
   "source": [
    "plt.hist(yelp_test['approx_token_count'])\n",
    "plt.xlabel('approx_token_count')\n",
    "plt.ylabel('yelp_review_count')\n",
    "plt.show()"
   ]
  },
  {
   "cell_type": "markdown",
   "id": "0bc2b133-78a8-4bf4-8082-07cec69aff19",
   "metadata": {},
   "source": [
    "#### **Test Split - Negative Reviews**"
   ]
  },
  {
   "cell_type": "code",
   "execution_count": 20,
   "id": "c1bb8ae2-4532-4d15-b4cb-2d1d00226cb8",
   "metadata": {},
   "outputs": [
    {
     "data": {
      "image/png": "[encoded data removed]",
      "text/plain": [
       "<Figure size 640x480 with 1 Axes>"
      ]
     },
     "metadata": {},
     "output_type": "display_data"
    }
   ],
   "source": [
    "plt.hist(yelp_test[yelp_test['polarity_label']=='negative']['approx_token_count'])\n",
    "plt.xlabel('approx_token_count')\n",
    "plt.ylabel('yelp_review_count')\n",
    "plt.show()"
   ]
  },
  {
   "cell_type": "markdown",
   "id": "4d16eb2d-92b5-4eb3-a5ba-aa1a6397fe86",
   "metadata": {},
   "source": [
    "#### **Test Split - Positive Reviews**"
   ]
  },
  {
   "cell_type": "code",
   "execution_count": 21,
   "id": "171ed8db-bbf4-44cd-87a4-2604d02d88f3",
   "metadata": {},
   "outputs": [
    {
     "data": {
      "image/png": "[encoded data removed]",
      "text/plain": [
       "<Figure size 640x480 with 1 Axes>"
      ]
     },
     "metadata": {},
     "output_type": "display_data"
    }
   ],
   "source": [
    "plt.hist(yelp_test[yelp_test['polarity_label']=='positive']['approx_token_count'])\n",
    "plt.xlabel('approx_token_count')\n",
    "plt.ylabel('yelp_review_count')\n",
    "plt.show()"
   ]
  },
  {
   "cell_type": "markdown",
   "id": "c55f99f7-65db-4ee2-bd1a-f268f2d8bf2a",
   "metadata": {},
   "source": [
    "### **Tokenize Reviews with DistilBERT**"
   ]
  },
  {
   "cell_type": "code",
   "execution_count": 22,
   "id": "26160d91-bf67-4121-ab8b-6afcd25229ba",
   "metadata": {},
   "outputs": [],
   "source": [
    "model_ckpt = \"distilbert-base-uncased\"\n",
    "tokenizer = AutoTokenizer.from_pretrained(model_ckpt)"
   ]
  },
  {
   "cell_type": "code",
   "execution_count": 23,
   "id": "97e8c4a7-f546-4bcf-997d-6740c77a4a5b",
   "metadata": {},
   "outputs": [
    {
     "name": "stderr",
     "output_type": "stream",
     "text": [
      "Token indices sequence length is longer than the specified maximum sequence length for this model (1019 > 512). Running this sequence through the model will result in indexing errors\n"
     ]
    }
   ],
   "source": [
    "yelp_train['distil_bert_token_count'] = yelp_train['text'].apply(token_count)\n",
    "yelp_test['distil_bert_token_count'] = yelp_test['text'].apply(token_count)"
   ]
  },
  {
   "cell_type": "code",
   "execution_count": 24,
   "id": "4a85eb4b-c9b2-4f50-8691-7eedef8dd065",
   "metadata": {},
   "outputs": [
    {
     "data": {
      "text/html": [
       "<div>\n",
       "<style scoped>\n",
       "    .dataframe tbody tr th:only-of-type {\n",
       "        vertical-align: middle;\n",
       "    }\n",
       "\n",
       "    .dataframe tbody tr th {\n",
       "        vertical-align: top;\n",
       "    }\n",
       "\n",
       "    .dataframe thead th {\n",
       "        text-align: right;\n",
       "    }\n",
       "</style>\n",
       "<table border=\"1\" class=\"dataframe\">\n",
       "  <thead>\n",
       "    <tr style=\"text-align: right;\">\n",
       "      <th></th>\n",
       "      <th>text</th>\n",
       "      <th>label</th>\n",
       "      <th>polarity_label</th>\n",
       "      <th>approx_token_count</th>\n",
       "      <th>distil_bert_token_count</th>\n",
       "    </tr>\n",
       "  </thead>\n",
       "  <tbody>\n",
       "    <tr>\n",
       "      <th>0</th>\n",
       "      <td>Unfortunately, the frustration of being Dr. Go...</td>\n",
       "      <td>0</td>\n",
       "      <td>negative</td>\n",
       "      <td>122</td>\n",
       "      <td>150</td>\n",
       "    </tr>\n",
       "    <tr>\n",
       "      <th>1</th>\n",
       "      <td>Been going to Dr. Goldberg for over 10 years. ...</td>\n",
       "      <td>1</td>\n",
       "      <td>positive</td>\n",
       "      <td>97</td>\n",
       "      <td>120</td>\n",
       "    </tr>\n",
       "    <tr>\n",
       "      <th>2</th>\n",
       "      <td>I don't know what Dr. Goldberg was like before...</td>\n",
       "      <td>0</td>\n",
       "      <td>negative</td>\n",
       "      <td>212</td>\n",
       "      <td>251</td>\n",
       "    </tr>\n",
       "    <tr>\n",
       "      <th>3</th>\n",
       "      <td>I'm writing this review to give you a heads up...</td>\n",
       "      <td>0</td>\n",
       "      <td>negative</td>\n",
       "      <td>193</td>\n",
       "      <td>251</td>\n",
       "    </tr>\n",
       "    <tr>\n",
       "      <th>4</th>\n",
       "      <td>All the food is great here. But the best thing...</td>\n",
       "      <td>1</td>\n",
       "      <td>positive</td>\n",
       "      <td>80</td>\n",
       "      <td>118</td>\n",
       "    </tr>\n",
       "  </tbody>\n",
       "</table>\n",
       "</div>"
      ],
      "text/plain": [
       "                                                text  label polarity_label  \\\n",
       "0  Unfortunately, the frustration of being Dr. Go...      0       negative   \n",
       "1  Been going to Dr. Goldberg for over 10 years. ...      1       positive   \n",
       "2  I don't know what Dr. Goldberg was like before...      0       negative   \n",
       "3  I'm writing this review to give you a heads up...      0       negative   \n",
       "4  All the food is great here. But the best thing...      1       positive   \n",
       "\n",
       "   approx_token_count  distil_bert_token_count  \n",
       "0                 122                      150  \n",
       "1                  97                      120  \n",
       "2                 212                      251  \n",
       "3                 193                      251  \n",
       "4                  80                      118  "
      ]
     },
     "execution_count": 24,
     "metadata": {},
     "output_type": "execute_result"
    }
   ],
   "source": [
    "yelp_train.head()"
   ]
  },
  {
   "cell_type": "code",
   "execution_count": 25,
   "id": "444cd1b0-8daf-49d6-996f-12e56ddba31d",
   "metadata": {},
   "outputs": [
    {
     "data": {
      "text/html": [
       "<div>\n",
       "<style scoped>\n",
       "    .dataframe tbody tr th:only-of-type {\n",
       "        vertical-align: middle;\n",
       "    }\n",
       "\n",
       "    .dataframe tbody tr th {\n",
       "        vertical-align: top;\n",
       "    }\n",
       "\n",
       "    .dataframe thead th {\n",
       "        text-align: right;\n",
       "    }\n",
       "</style>\n",
       "<table border=\"1\" class=\"dataframe\">\n",
       "  <thead>\n",
       "    <tr style=\"text-align: right;\">\n",
       "      <th></th>\n",
       "      <th>text</th>\n",
       "      <th>label</th>\n",
       "      <th>polarity_label</th>\n",
       "      <th>approx_token_count</th>\n",
       "      <th>distil_bert_token_count</th>\n",
       "    </tr>\n",
       "  </thead>\n",
       "  <tbody>\n",
       "    <tr>\n",
       "      <th>0</th>\n",
       "      <td>Contrary to other reviews, I have zero complai...</td>\n",
       "      <td>1</td>\n",
       "      <td>positive</td>\n",
       "      <td>126</td>\n",
       "      <td>150</td>\n",
       "    </tr>\n",
       "    <tr>\n",
       "      <th>1</th>\n",
       "      <td>Last summer I had an appointment to get new ti...</td>\n",
       "      <td>0</td>\n",
       "      <td>negative</td>\n",
       "      <td>72</td>\n",
       "      <td>102</td>\n",
       "    </tr>\n",
       "    <tr>\n",
       "      <th>2</th>\n",
       "      <td>Friendly staff, same starbucks fair you get an...</td>\n",
       "      <td>1</td>\n",
       "      <td>positive</td>\n",
       "      <td>16</td>\n",
       "      <td>20</td>\n",
       "    </tr>\n",
       "    <tr>\n",
       "      <th>3</th>\n",
       "      <td>The food is good. Unfortunately the service is...</td>\n",
       "      <td>0</td>\n",
       "      <td>negative</td>\n",
       "      <td>53</td>\n",
       "      <td>63</td>\n",
       "    </tr>\n",
       "    <tr>\n",
       "      <th>4</th>\n",
       "      <td>Even when we didn't have a car Filene's Baseme...</td>\n",
       "      <td>1</td>\n",
       "      <td>positive</td>\n",
       "      <td>138</td>\n",
       "      <td>190</td>\n",
       "    </tr>\n",
       "  </tbody>\n",
       "</table>\n",
       "</div>"
      ],
      "text/plain": [
       "                                                text  label polarity_label  \\\n",
       "0  Contrary to other reviews, I have zero complai...      1       positive   \n",
       "1  Last summer I had an appointment to get new ti...      0       negative   \n",
       "2  Friendly staff, same starbucks fair you get an...      1       positive   \n",
       "3  The food is good. Unfortunately the service is...      0       negative   \n",
       "4  Even when we didn't have a car Filene's Baseme...      1       positive   \n",
       "\n",
       "   approx_token_count  distil_bert_token_count  \n",
       "0                 126                      150  \n",
       "1                  72                      102  \n",
       "2                  16                       20  \n",
       "3                  53                       63  \n",
       "4                 138                      190  "
      ]
     },
     "execution_count": 25,
     "metadata": {},
     "output_type": "execute_result"
    }
   ],
   "source": [
    "yelp_test.head()"
   ]
  },
  {
   "cell_type": "markdown",
   "id": "e214a737-2938-41cf-950b-5bfb128503ff",
   "metadata": {},
   "source": [
    "#### **Full Train Split**"
   ]
  },
  {
   "cell_type": "code",
   "execution_count": 26,
   "id": "6ee073ee-c01b-49e8-a358-cdca9c4b7126",
   "metadata": {},
   "outputs": [
    {
     "data": {
      "image/png": "[encoded data removed]",
      "text/plain": [
       "<Figure size 640x480 with 1 Axes>"
      ]
     },
     "metadata": {},
     "output_type": "display_data"
    }
   ],
   "source": [
    "plt.hist(yelp_train['distil_bert_token_count'])\n",
    "plt.xlabel('distil_bert_token_count')\n",
    "plt.ylabel('yelp_review_count')\n",
    "plt.show()"
   ]
  },
  {
   "cell_type": "markdown",
   "id": "d0cea52a-cd5c-4697-b40b-bf076f5a81af",
   "metadata": {},
   "source": [
    "#### **Train Split - Negative Reviews**"
   ]
  },
  {
   "cell_type": "code",
   "execution_count": 27,
   "id": "e9149c81-c076-4e51-9de6-72b7092d144e",
   "metadata": {},
   "outputs": [
    {
     "data": {
      "image/png": "[encoded data removed]",
      "text/plain": [
       "<Figure size 640x480 with 1 Axes>"
      ]
     },
     "metadata": {},
     "output_type": "display_data"
    }
   ],
   "source": [
    "plt.hist(yelp_train[yelp_train['polarity_label']=='negative']['distil_bert_token_count'])\n",
    "plt.xlabel('distil_bert_token_count')\n",
    "plt.ylabel('yelp_review_count')\n",
    "plt.show()"
   ]
  },
  {
   "cell_type": "markdown",
   "id": "70107584-2cb6-4b6c-b9ea-0cf249d997d8",
   "metadata": {},
   "source": [
    "#### **Train Split - Positive Reviews**"
   ]
  },
  {
   "cell_type": "code",
   "execution_count": 28,
   "id": "b3000dcb-b140-4d3c-a964-d116d2d090fb",
   "metadata": {},
   "outputs": [
    {
     "data": {
      "image/png": "[encoded data removed]",
      "text/plain": [
       "<Figure size 640x480 with 1 Axes>"
      ]
     },
     "metadata": {},
     "output_type": "display_data"
    }
   ],
   "source": [
    "plt.hist(yelp_train[yelp_train['polarity_label']=='positive']['distil_bert_token_count'])\n",
    "plt.xlabel('distil_bert_token_count')\n",
    "plt.ylabel('yelp_review_count')\n",
    "plt.show()"
   ]
  },
  {
   "cell_type": "markdown",
   "id": "42186b1d-9745-4ec3-a458-bad9df5a3119",
   "metadata": {},
   "source": [
    "#### **Test Split - Negative Reviews**"
   ]
  },
  {
   "cell_type": "code",
   "execution_count": 29,
   "id": "5a0b740d-f0a1-498c-9307-6d18b4768092",
   "metadata": {},
   "outputs": [
    {
     "data": {
      "image/png": "[encoded data removed]",
      "text/plain": [
       "<Figure size 640x480 with 1 Axes>"
      ]
     },
     "metadata": {},
     "output_type": "display_data"
    }
   ],
   "source": [
    "plt.hist(yelp_test[yelp_test['polarity_label']=='negative']['distil_bert_token_count'])\n",
    "plt.xlabel('distil_bert_token_count')\n",
    "plt.ylabel('yelp_review_count')\n",
    "plt.show()"
   ]
  },
  {
   "cell_type": "markdown",
   "id": "74245194-fc77-45a5-8ac7-a45d36b1c427",
   "metadata": {},
   "source": [
    "#### **Test Split - Positive Reviews**"
   ]
  },
  {
   "cell_type": "code",
   "execution_count": 30,
   "id": "4d192460-0292-4e3b-8da6-212bcbe9f9cd",
   "metadata": {},
   "outputs": [
    {
     "data": {
      "image/png": "[encoded data removed]",
      "text/plain": [
       "<Figure size 640x480 with 1 Axes>"
      ]
     },
     "metadata": {},
     "output_type": "display_data"
    }
   ],
   "source": [
    "plt.hist(yelp_test[yelp_test['polarity_label']=='positive']['distil_bert_token_count'])\n",
    "plt.xlabel('distil_bert_token_count')\n",
    "plt.ylabel('yelp_review_count')\n",
    "plt.show()"
   ]
  },
  {
   "cell_type": "markdown",
   "id": "e2dee2f7-9aa4-404c-bd3e-33cc1c24a734",
   "metadata": {},
   "source": [
    "## **Drop Rows with Tokens > 512**"
   ]
  },
  {
   "cell_type": "code",
   "execution_count": 31,
   "id": "31f5359b-d06e-4791-b9c4-ebc55be0abe9",
   "metadata": {},
   "outputs": [
    {
     "name": "stdout",
     "output_type": "stream",
     "text": [
      "(560000, 5)\n",
      "(533594, 5)\n"
     ]
    }
   ],
   "source": [
    "yelp_train_512 = yelp_train[yelp_train['distil_bert_token_count'] <= 512]\n",
    "print(yelp_train.shape)\n",
    "print(yelp_train_512.shape)"
   ]
  },
  {
   "cell_type": "code",
   "execution_count": 35,
   "id": "c9e4657e-826a-4c4f-a25f-44553dde9cd2",
   "metadata": {},
   "outputs": [
    {
     "data": {
      "text/plain": [
       "polarity_label\n",
       "positive    50.826471\n",
       "negative    49.173529\n",
       "Name: count, dtype: float64"
      ]
     },
     "execution_count": 35,
     "metadata": {},
     "output_type": "execute_result"
    }
   ],
   "source": [
    "yelp_train_512['polarity_label'].value_counts()/yelp_train_512.shape[0] * 100.0"
   ]
  },
  {
   "cell_type": "code",
   "execution_count": 36,
   "id": "9c507c33-f376-4c4c-bf30-c52dd75aa79b",
   "metadata": {},
   "outputs": [
    {
     "name": "stdout",
     "output_type": "stream",
     "text": [
      "(38000, 5)\n",
      "(36234, 5)\n"
     ]
    }
   ],
   "source": [
    "yelp_test_512 = yelp_test[yelp_test['distil_bert_token_count'] <= 512]\n",
    "print(yelp_test.shape)\n",
    "print(yelp_test_512.shape)"
   ]
  },
  {
   "cell_type": "code",
   "execution_count": 37,
   "id": "30a38ad7-5f58-4e9c-8980-cddfeb32fa8a",
   "metadata": {},
   "outputs": [
    {
     "data": {
      "text/plain": [
       "polarity_label\n",
       "positive    50.85003\n",
       "negative    49.14997\n",
       "Name: count, dtype: float64"
      ]
     },
     "execution_count": 37,
     "metadata": {},
     "output_type": "execute_result"
    }
   ],
   "source": [
    "yelp_test_512['polarity_label'].value_counts()/yelp_test_512.shape[0] * 100.0"
   ]
  },
  {
   "cell_type": "markdown",
   "id": "3c516aa2-f4de-471e-be52-932f9d39f790",
   "metadata": {},
   "source": [
    "## **Create Train, Test and Validation Splits**"
   ]
  },
  {
   "cell_type": "code",
   "execution_count": 41,
   "id": "a554522a-5627-4d50-840e-44205df2938a",
   "metadata": {},
   "outputs": [],
   "source": [
    "yelp_512 = pd.concat([yelp_train_512, yelp_test_512])\n",
    "\n",
    "X = yelp_512[['text','polarity_label']].copy()\n",
    "y = yelp_512['label']"
   ]
  },
  {
   "cell_type": "code",
   "execution_count": 42,
   "id": "daa62d6a-6821-450d-975e-48425fa5398a",
   "metadata": {},
   "outputs": [],
   "source": [
    "X_train_temp, X_test, y_train_temp, y_test = train_test_split(X, y, test_size=0.20, random_state=1610, stratify=y)"
   ]
  },
  {
   "cell_type": "code",
   "execution_count": 43,
   "id": "bc2d65a9-4dde-421e-bbf9-dc4b45d833cc",
   "metadata": {},
   "outputs": [],
   "source": [
    "X_train, X_val, y_train, y_val = train_test_split(X_train_temp, y_train_temp, test_size=0.20, random_state=1610, stratify=y_train_temp)"
   ]
  },
  {
   "cell_type": "code",
   "execution_count": 44,
   "id": "bb64af5c-eca3-4a3e-ac37-b0e7575fa2bf",
   "metadata": {},
   "outputs": [],
   "source": [
    "X_train['label'] = y_train\n",
    "X_test['label'] = y_test\n",
    "X_val['label'] = y_val"
   ]
  },
  {
   "cell_type": "code",
   "execution_count": 45,
   "id": "99f828ea-646f-4492-8df2-7e52f9b75461",
   "metadata": {},
   "outputs": [
    {
     "data": {
      "text/plain": [
       "polarity_label\n",
       "positive    185364\n",
       "negative    179325\n",
       "Name: count, dtype: int64"
      ]
     },
     "execution_count": 45,
     "metadata": {},
     "output_type": "execute_result"
    }
   ],
   "source": [
    "X_train.polarity_label.value_counts()"
   ]
  },
  {
   "cell_type": "code",
   "execution_count": 46,
   "id": "07c90217-f003-472a-a4d9-cac7c9ef0a16",
   "metadata": {},
   "outputs": [
    {
     "data": {
      "text/plain": [
       "polarity_label\n",
       "positive    57927\n",
       "negative    56039\n",
       "Name: count, dtype: int64"
      ]
     },
     "execution_count": 46,
     "metadata": {},
     "output_type": "execute_result"
    }
   ],
   "source": [
    "X_test.polarity_label.value_counts()"
   ]
  },
  {
   "cell_type": "code",
   "execution_count": 47,
   "id": "be679e4e-e516-4907-adf2-76d50d93d4b9",
   "metadata": {},
   "outputs": [
    {
     "data": {
      "text/plain": [
       "polarity_label\n",
       "positive    46341\n",
       "negative    44832\n",
       "Name: count, dtype: int64"
      ]
     },
     "execution_count": 47,
     "metadata": {},
     "output_type": "execute_result"
    }
   ],
   "source": [
    "X_val.polarity_label.value_counts()"
   ]
  },
  {
   "cell_type": "code",
   "execution_count": 49,
   "id": "cc936db5-61a2-4d19-945f-f8a6a2f1e2de",
   "metadata": {},
   "outputs": [],
   "source": [
    "train_data_csv = os.path.join(os.getcwd(),'data','yelp_train.csv')\n",
    "test_data_csv = os.path.join(os.getcwd(),'data','yelp_test.csv')\n",
    "valid_data_csv = os.path.join(os.getcwd(),'data','yelp_validation.csv')\n",
    "\n",
    "X_train.to_csv(train_data_csv, index=False)\n",
    "X_test.to_csv(test_data_csv, index=False)\n",
    "X_val.to_csv(valid_data_csv, index=False)"
   ]
  },
  {
   "cell_type": "code",
   "execution_count": 52,
   "id": "8fc77797-13c8-4f94-9999-268aa4d7ebde",
   "metadata": {},
   "outputs": [
    {
     "data": {
      "text/html": [
       "<div>\n",
       "<style scoped>\n",
       "    .dataframe tbody tr th:only-of-type {\n",
       "        vertical-align: middle;\n",
       "    }\n",
       "\n",
       "    .dataframe tbody tr th {\n",
       "        vertical-align: top;\n",
       "    }\n",
       "\n",
       "    .dataframe thead th {\n",
       "        text-align: right;\n",
       "    }\n",
       "</style>\n",
       "<table border=\"1\" class=\"dataframe\">\n",
       "  <thead>\n",
       "    <tr style=\"text-align: right;\">\n",
       "      <th></th>\n",
       "      <th>text</th>\n",
       "      <th>polarity_label</th>\n",
       "      <th>label</th>\n",
       "    </tr>\n",
       "  </thead>\n",
       "  <tbody>\n",
       "    <tr>\n",
       "      <th>107863</th>\n",
       "      <td>One of the best beer selections in the city. T...</td>\n",
       "      <td>positive</td>\n",
       "      <td>1</td>\n",
       "    </tr>\n",
       "    <tr>\n",
       "      <th>86668</th>\n",
       "      <td>Food was not very good. Service was subpar. 4 ...</td>\n",
       "      <td>negative</td>\n",
       "      <td>0</td>\n",
       "    </tr>\n",
       "    <tr>\n",
       "      <th>551149</th>\n",
       "      <td>Always has great lunch specials.. Back rubs wi...</td>\n",
       "      <td>positive</td>\n",
       "      <td>1</td>\n",
       "    </tr>\n",
       "    <tr>\n",
       "      <th>408949</th>\n",
       "      <td>Ever want to step inside a postcard picture an...</td>\n",
       "      <td>positive</td>\n",
       "      <td>1</td>\n",
       "    </tr>\n",
       "    <tr>\n",
       "      <th>514015</th>\n",
       "      <td>It was good. Cool stuff on the wall. I think t...</td>\n",
       "      <td>positive</td>\n",
       "      <td>1</td>\n",
       "    </tr>\n",
       "  </tbody>\n",
       "</table>\n",
       "</div>"
      ],
      "text/plain": [
       "                                                     text polarity_label  \\\n",
       "107863  One of the best beer selections in the city. T...       positive   \n",
       "86668   Food was not very good. Service was subpar. 4 ...       negative   \n",
       "551149  Always has great lunch specials.. Back rubs wi...       positive   \n",
       "408949  Ever want to step inside a postcard picture an...       positive   \n",
       "514015  It was good. Cool stuff on the wall. I think t...       positive   \n",
       "\n",
       "        label  \n",
       "107863      1  \n",
       "86668       0  \n",
       "551149      1  \n",
       "408949      1  \n",
       "514015      1  "
      ]
     },
     "execution_count": 52,
     "metadata": {},
     "output_type": "execute_result"
    }
   ],
   "source": [
    "X_val.head()"
   ]
  },
  {
   "cell_type": "code",
   "execution_count": null,
   "id": "0ca81803-fcdf-4a37-b205-2294401d6157",
   "metadata": {},
   "outputs": [],
   "source": []
  }
 ],
 "metadata": {
  "kernelspec": {
   "display_name": "Python 3 (ipykernel)",
   "language": "python",
   "name": "python3"
  },
  "language_info": {
   "codemirror_mode": {
    "name": "ipython",
    "version": 3
   },
   "file_extension": ".py",
   "mimetype": "text/x-python",
   "name": "python",
   "nbconvert_exporter": "python",
   "pygments_lexer": "ipython3",
   "version": "3.12.4"
  }
 },
 "nbformat": 4,
 "nbformat_minor": 5
}
