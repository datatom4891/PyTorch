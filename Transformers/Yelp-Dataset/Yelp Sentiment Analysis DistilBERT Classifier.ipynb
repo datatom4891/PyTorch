{
 "cells": [
  {
   "cell_type": "markdown",
   "id": "74998705-2336-4d04-986f-5aa4aa88a930",
   "metadata": {},
   "source": [
    "## **Import Libraries**"
   ]
  },
  {
   "cell_type": "code",
   "execution_count": 1,
   "id": "093c0051-f645-47df-8714-5301c47a3e89",
   "metadata": {},
   "outputs": [],
   "source": [
    "import os\n",
    "import numpy as np\n",
    "import torch\n",
    "import matplotlib.pyplot as plt\n",
    "\n",
    "from datasets import load_dataset\n",
    "from torch.nn.functional import cross_entropy\n",
    "from huggingface_hub import notebook_login\n",
    "\n",
    "from transformers import AutoTokenizer\n",
    "from transformers import AutoModel\n",
    "from transformers import AutoModelForSequenceClassification\n",
    "from transformers import Trainer, TrainingArguments\n",
    "\n",
    "from sklearn.preprocessing import MinMaxScaler, StandardScaler\n",
    "from sklearn.dummy import DummyClassifier\n",
    "from sklearn.linear_model import LogisticRegression\n",
    "from sklearn.metrics import ConfusionMatrixDisplay, confusion_matrix\n",
    "from sklearn.metrics import roc_auc_score, f1_score"
   ]
  },
  {
   "cell_type": "code",
   "execution_count": 3,
   "id": "c3d3badc-ad91-4c88-8ff6-6c2f597bf1e4",
   "metadata": {},
   "outputs": [
    {
     "data": {
      "application/vnd.jupyter.widget-view+json": {
       "model_id": "55660c5932ca4ae091028cc73364cddd",
       "version_major": 2,
       "version_minor": 0
      },
      "text/plain": [
       "VBox(children=(HTML(value='<center> <img\\nsrc=https://huggingface.co/front/assets/huggingface_logo-noborder.sv…"
      ]
     },
     "metadata": {},
     "output_type": "display_data"
    }
   ],
   "source": [
    "### Log in to HF Hub to push the model to HF\n",
    "\n",
    "notebook_login()"
   ]
  },
  {
   "cell_type": "markdown",
   "id": "045a998a-6ae7-416d-b514-9f9381f6a789",
   "metadata": {},
   "source": [
    "## **My Defined Functions**"
   ]
  },
  {
   "cell_type": "code",
   "execution_count": 4,
   "id": "363d5e6a-0a38-4525-bc70-0342343e2417",
   "metadata": {},
   "outputs": [],
   "source": [
    "def extract_cls_token_hidden_state(batch):\n",
    "    inputs = {k:v.to(device) for k,v in batch.items() if k in transformer_tokenizer.model_input_names}\n",
    "    \n",
    "    with torch.no_grad():\n",
    "        last_hidden_state = transformer_model(**inputs).last_hidden_state\n",
    "    \n",
    "    return {\"cls_token_hidden_state\": last_hidden_state[:,0].cpu().numpy()}\n",
    "\n",
    "def tokenize(batch):\n",
    "    return transformer_tokenizer(batch[\"text\"], padding=True, truncation=True)\n",
    "\n",
    "def compute_metrics(pred):\n",
    "    labels = pred.label_ids\n",
    "    preds = pred.predictions.argmax(-1)\n",
    "    f1 = f1_score(labels, preds, average=\"weighted\")\n",
    "    roc_auc = roc_auc_score(labels, preds)\n",
    "    return {\"roc_auc\": roc_auc, \"f1\": f1}"
   ]
  },
  {
   "cell_type": "markdown",
   "id": "67d9caa8-18cc-442d-9e09-fb6b7e50caf4",
   "metadata": {},
   "source": [
    "## **Load Train and Test Datasets**"
   ]
  },
  {
   "cell_type": "code",
   "execution_count": 5,
   "id": "51e9dd45-9c95-4696-8131-855df897bc69",
   "metadata": {},
   "outputs": [
    {
     "data": {
      "text/plain": [
       "DatasetDict({\n",
       "    train: Dataset({\n",
       "        features: ['text', 'polarity_label', 'label'],\n",
       "        num_rows: 364689\n",
       "    })\n",
       "    test: Dataset({\n",
       "        features: ['text', 'polarity_label', 'label'],\n",
       "        num_rows: 113966\n",
       "    })\n",
       "    validation: Dataset({\n",
       "        features: ['text', 'polarity_label', 'label'],\n",
       "        num_rows: 91173\n",
       "    })\n",
       "})"
      ]
     },
     "execution_count": 5,
     "metadata": {},
     "output_type": "execute_result"
    }
   ],
   "source": [
    "train_data_csv = os.path.join(os.getcwd(),'data','yelp_train.csv')\n",
    "test_data_csv = os.path.join(os.getcwd(),'data','yelp_test.csv')\n",
    "valid_data_csv = os.path.join(os.getcwd(),'data','yelp_validation.csv')\n",
    "\n",
    "yelp_bert_512 = load_dataset(\"csv\", data_files= {'train':train_data_csv, 'test':test_data_csv, 'validation':valid_data_csv})\n",
    "yelp_bert_512 "
   ]
  },
  {
   "cell_type": "markdown",
   "id": "adf03d6e-a87c-4776-ad10-f45fff5e400d",
   "metadata": {},
   "source": [
    "### **Feature Extraction using DistilBERT Tokenizer**"
   ]
  },
  {
   "cell_type": "code",
   "execution_count": 6,
   "id": "71942084-bea7-4e2b-8d61-13f8d402ef20",
   "metadata": {},
   "outputs": [],
   "source": [
    "model_name = \"distilbert-base-uncased\"\n",
    "device = torch.device(\"cuda\" if torch.cuda.is_available() else \"cpu\")\n",
    "\n",
    "transformer_tokenizer = AutoTokenizer.from_pretrained(model_name)\n",
    "transformer_model = AutoModel.from_pretrained(model_name).to(device)"
   ]
  },
  {
   "cell_type": "code",
   "execution_count": 7,
   "id": "106e7731-f94e-43a9-884c-381b2097e178",
   "metadata": {},
   "outputs": [],
   "source": [
    "yelp_bert_512_encoded = yelp_bert_512.map(tokenize, batched=True, batch_size=None)"
   ]
  },
  {
   "cell_type": "code",
   "execution_count": 8,
   "id": "f0a1fdc3-6c84-40b5-95d1-84583439ab39",
   "metadata": {},
   "outputs": [],
   "source": [
    "yelp_bert_512_encoded.set_format(\"torch\", columns=[\"input_ids\", \"attention_mask\", \"label\"])\n",
    "\n",
    "# yelp_bert_512_with_cls_vectors = yelp_bert_512_encoded.map(extract_cls_token_hidden_state, batched=True)\n",
    "\n",
    "# yelp_bert_512_with_cls_vectors['train'].column_names"
   ]
  },
  {
   "cell_type": "code",
   "execution_count": 9,
   "id": "8b2789b2-1b67-4039-8ede-9a4480949db5",
   "metadata": {},
   "outputs": [],
   "source": [
    "# hf_file_name = os.path.join(os.getcwd(),'HF-Dataset','yelp_bert_512_with_cls_vectors.hf')\n",
    "# yelp_bert_512_with_cls_vectors.save_to_disk(hf_file_name)"
   ]
  },
  {
   "cell_type": "code",
   "execution_count": 10,
   "id": "fb7695f7-f222-4fcd-82e9-52230ebafa68",
   "metadata": {},
   "outputs": [
    {
     "data": {
      "text/plain": [
       "DatasetDict({\n",
       "    train: Dataset({\n",
       "        features: ['text', 'polarity_label', 'label', 'input_ids', 'attention_mask', 'cls_token_hidden_state'],\n",
       "        num_rows: 364689\n",
       "    })\n",
       "    validation: Dataset({\n",
       "        features: ['text', 'polarity_label', 'label', 'input_ids', 'attention_mask', 'cls_token_hidden_state'],\n",
       "        num_rows: 91173\n",
       "    })\n",
       "    test: Dataset({\n",
       "        features: ['text', 'polarity_label', 'label', 'input_ids', 'attention_mask', 'cls_token_hidden_state'],\n",
       "        num_rows: 113966\n",
       "    })\n",
       "})"
      ]
     },
     "execution_count": 10,
     "metadata": {},
     "output_type": "execute_result"
    }
   ],
   "source": [
    "hf_file_name = os.path.join(os.getcwd(),'HF-Dataset','yelp_bert_512_with_cls_vectors.hf')\n",
    "\n",
    "yelp_bert_512_with_cls_vectors = load_dataset(hf_file_name)\n",
    "\n",
    "yelp_bert_512_with_cls_vectors"
   ]
  },
  {
   "cell_type": "markdown",
   "id": "f739c960-c2ca-4993-9958-53c08550f767",
   "metadata": {},
   "source": [
    "## **Model Training**"
   ]
  },
  {
   "cell_type": "code",
   "execution_count": 11,
   "id": "9257fadc-5497-44c6-bb07-c7cba6cf536e",
   "metadata": {},
   "outputs": [
    {
     "data": {
      "text/plain": [
       "((364689, 768), (91173, 768))"
      ]
     },
     "execution_count": 11,
     "metadata": {},
     "output_type": "execute_result"
    }
   ],
   "source": [
    "X_train = np.array(yelp_bert_512_with_cls_vectors[\"train\"][\"cls_token_hidden_state\"])\n",
    "X_valid = np.array(yelp_bert_512_with_cls_vectors[\"validation\"][\"cls_token_hidden_state\"])\n",
    "y_train = np.array(yelp_bert_512_with_cls_vectors[\"train\"][\"label\"])\n",
    "y_valid = np.array(yelp_bert_512_with_cls_vectors[\"validation\"][\"label\"])\n",
    "X_train.shape, X_valid.shape"
   ]
  },
  {
   "cell_type": "code",
   "execution_count": 28,
   "id": "5bd90e66-9978-4ea7-83f6-0000fa3be15f",
   "metadata": {},
   "outputs": [],
   "source": [
    "y_test = np.array(yelp_bert_512_with_cls_vectors[\"test\"][\"label\"])"
   ]
  },
  {
   "cell_type": "code",
   "execution_count": 12,
   "id": "268e9067-09da-4413-ae1e-1597fd8b3203",
   "metadata": {},
   "outputs": [],
   "source": [
    "stan_scaler = StandardScaler().fit(X_train)\n",
    "X_train_scaled = stan_scaler.transform(X_train)\n",
    "X_valid_scaled = stan_scaler.transform(X_valid)"
   ]
  },
  {
   "cell_type": "markdown",
   "id": "a278c8f4-937e-45ad-870d-888fd636f1ce",
   "metadata": {},
   "source": [
    "### **Baseline Model**"
   ]
  },
  {
   "cell_type": "code",
   "execution_count": 13,
   "id": "39f8d6c3-a8c9-46a0-bedb-9552bb545655",
   "metadata": {},
   "outputs": [
    {
     "data": {
      "text/plain": [
       "0.51"
      ]
     },
     "execution_count": 13,
     "metadata": {},
     "output_type": "execute_result"
    }
   ],
   "source": [
    "dummy_clf = DummyClassifier(strategy=\"most_frequent\")\n",
    "dummy_clf.fit(X_train, y_train)\n",
    "round(dummy_clf.score(X_valid, y_valid), 2)"
   ]
  },
  {
   "cell_type": "markdown",
   "id": "953414df-82fc-47c7-90bf-2ab3e69fff72",
   "metadata": {},
   "source": [
    "### **Logistic Regression**"
   ]
  },
  {
   "cell_type": "code",
   "execution_count": 14,
   "id": "1dd8b7b1-515d-4d7a-b26d-3d086ca5b710",
   "metadata": {},
   "outputs": [
    {
     "data": {
      "text/html": [
       "<style>#sk-container-id-1 {\n",
       "  /* Definition of color scheme common for light and dark mode */\n",
       "  --sklearn-color-text: black;\n",
       "  --sklearn-color-line: gray;\n",
       "  /* Definition of color scheme for unfitted estimators */\n",
       "  --sklearn-color-unfitted-level-0: #fff5e6;\n",
       "  --sklearn-color-unfitted-level-1: #f6e4d2;\n",
       "  --sklearn-color-unfitted-level-2: #ffe0b3;\n",
       "  --sklearn-color-unfitted-level-3: chocolate;\n",
       "  /* Definition of color scheme for fitted estimators */\n",
       "  --sklearn-color-fitted-level-0: #f0f8ff;\n",
       "  --sklearn-color-fitted-level-1: #d4ebff;\n",
       "  --sklearn-color-fitted-level-2: #b3dbfd;\n",
       "  --sklearn-color-fitted-level-3: cornflowerblue;\n",
       "\n",
       "  /* Specific color for light theme */\n",
       "  --sklearn-color-text-on-default-background: var(--sg-text-color, var(--theme-code-foreground, var(--jp-content-font-color1, black)));\n",
       "  --sklearn-color-background: var(--sg-background-color, var(--theme-background, var(--jp-layout-color0, white)));\n",
       "  --sklearn-color-border-box: var(--sg-text-color, var(--theme-code-foreground, var(--jp-content-font-color1, black)));\n",
       "  --sklearn-color-icon: #696969;\n",
       "\n",
       "  @media (prefers-color-scheme: dark) {\n",
       "    /* Redefinition of color scheme for dark theme */\n",
       "    --sklearn-color-text-on-default-background: var(--sg-text-color, var(--theme-code-foreground, var(--jp-content-font-color1, white)));\n",
       "    --sklearn-color-background: var(--sg-background-color, var(--theme-background, var(--jp-layout-color0, #111)));\n",
       "    --sklearn-color-border-box: var(--sg-text-color, var(--theme-code-foreground, var(--jp-content-font-color1, white)));\n",
       "    --sklearn-color-icon: #878787;\n",
       "  }\n",
       "}\n",
       "\n",
       "#sk-container-id-1 {\n",
       "  color: var(--sklearn-color-text);\n",
       "}\n",
       "\n",
       "#sk-container-id-1 pre {\n",
       "  padding: 0;\n",
       "}\n",
       "\n",
       "#sk-container-id-1 input.sk-hidden--visually {\n",
       "  border: 0;\n",
       "  clip: rect(1px 1px 1px 1px);\n",
       "  clip: rect(1px, 1px, 1px, 1px);\n",
       "  height: 1px;\n",
       "  margin: -1px;\n",
       "  overflow: hidden;\n",
       "  padding: 0;\n",
       "  position: absolute;\n",
       "  width: 1px;\n",
       "}\n",
       "\n",
       "#sk-container-id-1 div.sk-dashed-wrapped {\n",
       "  border: 1px dashed var(--sklearn-color-line);\n",
       "  margin: 0 0.4em 0.5em 0.4em;\n",
       "  box-sizing: border-box;\n",
       "  padding-bottom: 0.4em;\n",
       "  background-color: var(--sklearn-color-background);\n",
       "}\n",
       "\n",
       "#sk-container-id-1 div.sk-container {\n",
       "  /* jupyter's `normalize.less` sets `[hidden] { display: none; }`\n",
       "     but bootstrap.min.css set `[hidden] { display: none !important; }`\n",
       "     so we also need the `!important` here to be able to override the\n",
       "     default hidden behavior on the sphinx rendered scikit-learn.org.\n",
       "     See: https://github.com/scikit-learn/scikit-learn/issues/21755 */\n",
       "  display: inline-block !important;\n",
       "  position: relative;\n",
       "}\n",
       "\n",
       "#sk-container-id-1 div.sk-text-repr-fallback {\n",
       "  display: none;\n",
       "}\n",
       "\n",
       "div.sk-parallel-item,\n",
       "div.sk-serial,\n",
       "div.sk-item {\n",
       "  /* draw centered vertical line to link estimators */\n",
       "  background-image: linear-gradient(var(--sklearn-color-text-on-default-background), var(--sklearn-color-text-on-default-background));\n",
       "  background-size: 2px 100%;\n",
       "  background-repeat: no-repeat;\n",
       "  background-position: center center;\n",
       "}\n",
       "\n",
       "/* Parallel-specific style estimator block */\n",
       "\n",
       "#sk-container-id-1 div.sk-parallel-item::after {\n",
       "  content: \"\";\n",
       "  width: 100%;\n",
       "  border-bottom: 2px solid var(--sklearn-color-text-on-default-background);\n",
       "  flex-grow: 1;\n",
       "}\n",
       "\n",
       "#sk-container-id-1 div.sk-parallel {\n",
       "  display: flex;\n",
       "  align-items: stretch;\n",
       "  justify-content: center;\n",
       "  background-color: var(--sklearn-color-background);\n",
       "  position: relative;\n",
       "}\n",
       "\n",
       "#sk-container-id-1 div.sk-parallel-item {\n",
       "  display: flex;\n",
       "  flex-direction: column;\n",
       "}\n",
       "\n",
       "#sk-container-id-1 div.sk-parallel-item:first-child::after {\n",
       "  align-self: flex-end;\n",
       "  width: 50%;\n",
       "}\n",
       "\n",
       "#sk-container-id-1 div.sk-parallel-item:last-child::after {\n",
       "  align-self: flex-start;\n",
       "  width: 50%;\n",
       "}\n",
       "\n",
       "#sk-container-id-1 div.sk-parallel-item:only-child::after {\n",
       "  width: 0;\n",
       "}\n",
       "\n",
       "/* Serial-specific style estimator block */\n",
       "\n",
       "#sk-container-id-1 div.sk-serial {\n",
       "  display: flex;\n",
       "  flex-direction: column;\n",
       "  align-items: center;\n",
       "  background-color: var(--sklearn-color-background);\n",
       "  padding-right: 1em;\n",
       "  padding-left: 1em;\n",
       "}\n",
       "\n",
       "\n",
       "/* Toggleable style: style used for estimator/Pipeline/ColumnTransformer box that is\n",
       "clickable and can be expanded/collapsed.\n",
       "- Pipeline and ColumnTransformer use this feature and define the default style\n",
       "- Estimators will overwrite some part of the style using the `sk-estimator` class\n",
       "*/\n",
       "\n",
       "/* Pipeline and ColumnTransformer style (default) */\n",
       "\n",
       "#sk-container-id-1 div.sk-toggleable {\n",
       "  /* Default theme specific background. It is overwritten whether we have a\n",
       "  specific estimator or a Pipeline/ColumnTransformer */\n",
       "  background-color: var(--sklearn-color-background);\n",
       "}\n",
       "\n",
       "/* Toggleable label */\n",
       "#sk-container-id-1 label.sk-toggleable__label {\n",
       "  cursor: pointer;\n",
       "  display: block;\n",
       "  width: 100%;\n",
       "  margin-bottom: 0;\n",
       "  padding: 0.5em;\n",
       "  box-sizing: border-box;\n",
       "  text-align: center;\n",
       "}\n",
       "\n",
       "#sk-container-id-1 label.sk-toggleable__label-arrow:before {\n",
       "  /* Arrow on the left of the label */\n",
       "  content: \"▸\";\n",
       "  float: left;\n",
       "  margin-right: 0.25em;\n",
       "  color: var(--sklearn-color-icon);\n",
       "}\n",
       "\n",
       "#sk-container-id-1 label.sk-toggleable__label-arrow:hover:before {\n",
       "  color: var(--sklearn-color-text);\n",
       "}\n",
       "\n",
       "/* Toggleable content - dropdown */\n",
       "\n",
       "#sk-container-id-1 div.sk-toggleable__content {\n",
       "  max-height: 0;\n",
       "  max-width: 0;\n",
       "  overflow: hidden;\n",
       "  text-align: left;\n",
       "  /* unfitted */\n",
       "  background-color: var(--sklearn-color-unfitted-level-0);\n",
       "}\n",
       "\n",
       "#sk-container-id-1 div.sk-toggleable__content.fitted {\n",
       "  /* fitted */\n",
       "  background-color: var(--sklearn-color-fitted-level-0);\n",
       "}\n",
       "\n",
       "#sk-container-id-1 div.sk-toggleable__content pre {\n",
       "  margin: 0.2em;\n",
       "  border-radius: 0.25em;\n",
       "  color: var(--sklearn-color-text);\n",
       "  /* unfitted */\n",
       "  background-color: var(--sklearn-color-unfitted-level-0);\n",
       "}\n",
       "\n",
       "#sk-container-id-1 div.sk-toggleable__content.fitted pre {\n",
       "  /* unfitted */\n",
       "  background-color: var(--sklearn-color-fitted-level-0);\n",
       "}\n",
       "\n",
       "#sk-container-id-1 input.sk-toggleable__control:checked~div.sk-toggleable__content {\n",
       "  /* Expand drop-down */\n",
       "  max-height: 200px;\n",
       "  max-width: 100%;\n",
       "  overflow: auto;\n",
       "}\n",
       "\n",
       "#sk-container-id-1 input.sk-toggleable__control:checked~label.sk-toggleable__label-arrow:before {\n",
       "  content: \"▾\";\n",
       "}\n",
       "\n",
       "/* Pipeline/ColumnTransformer-specific style */\n",
       "\n",
       "#sk-container-id-1 div.sk-label input.sk-toggleable__control:checked~label.sk-toggleable__label {\n",
       "  color: var(--sklearn-color-text);\n",
       "  background-color: var(--sklearn-color-unfitted-level-2);\n",
       "}\n",
       "\n",
       "#sk-container-id-1 div.sk-label.fitted input.sk-toggleable__control:checked~label.sk-toggleable__label {\n",
       "  background-color: var(--sklearn-color-fitted-level-2);\n",
       "}\n",
       "\n",
       "/* Estimator-specific style */\n",
       "\n",
       "/* Colorize estimator box */\n",
       "#sk-container-id-1 div.sk-estimator input.sk-toggleable__control:checked~label.sk-toggleable__label {\n",
       "  /* unfitted */\n",
       "  background-color: var(--sklearn-color-unfitted-level-2);\n",
       "}\n",
       "\n",
       "#sk-container-id-1 div.sk-estimator.fitted input.sk-toggleable__control:checked~label.sk-toggleable__label {\n",
       "  /* fitted */\n",
       "  background-color: var(--sklearn-color-fitted-level-2);\n",
       "}\n",
       "\n",
       "#sk-container-id-1 div.sk-label label.sk-toggleable__label,\n",
       "#sk-container-id-1 div.sk-label label {\n",
       "  /* The background is the default theme color */\n",
       "  color: var(--sklearn-color-text-on-default-background);\n",
       "}\n",
       "\n",
       "/* On hover, darken the color of the background */\n",
       "#sk-container-id-1 div.sk-label:hover label.sk-toggleable__label {\n",
       "  color: var(--sklearn-color-text);\n",
       "  background-color: var(--sklearn-color-unfitted-level-2);\n",
       "}\n",
       "\n",
       "/* Label box, darken color on hover, fitted */\n",
       "#sk-container-id-1 div.sk-label.fitted:hover label.sk-toggleable__label.fitted {\n",
       "  color: var(--sklearn-color-text);\n",
       "  background-color: var(--sklearn-color-fitted-level-2);\n",
       "}\n",
       "\n",
       "/* Estimator label */\n",
       "\n",
       "#sk-container-id-1 div.sk-label label {\n",
       "  font-family: monospace;\n",
       "  font-weight: bold;\n",
       "  display: inline-block;\n",
       "  line-height: 1.2em;\n",
       "}\n",
       "\n",
       "#sk-container-id-1 div.sk-label-container {\n",
       "  text-align: center;\n",
       "}\n",
       "\n",
       "/* Estimator-specific */\n",
       "#sk-container-id-1 div.sk-estimator {\n",
       "  font-family: monospace;\n",
       "  border: 1px dotted var(--sklearn-color-border-box);\n",
       "  border-radius: 0.25em;\n",
       "  box-sizing: border-box;\n",
       "  margin-bottom: 0.5em;\n",
       "  /* unfitted */\n",
       "  background-color: var(--sklearn-color-unfitted-level-0);\n",
       "}\n",
       "\n",
       "#sk-container-id-1 div.sk-estimator.fitted {\n",
       "  /* fitted */\n",
       "  background-color: var(--sklearn-color-fitted-level-0);\n",
       "}\n",
       "\n",
       "/* on hover */\n",
       "#sk-container-id-1 div.sk-estimator:hover {\n",
       "  /* unfitted */\n",
       "  background-color: var(--sklearn-color-unfitted-level-2);\n",
       "}\n",
       "\n",
       "#sk-container-id-1 div.sk-estimator.fitted:hover {\n",
       "  /* fitted */\n",
       "  background-color: var(--sklearn-color-fitted-level-2);\n",
       "}\n",
       "\n",
       "/* Specification for estimator info (e.g. \"i\" and \"?\") */\n",
       "\n",
       "/* Common style for \"i\" and \"?\" */\n",
       "\n",
       ".sk-estimator-doc-link,\n",
       "a:link.sk-estimator-doc-link,\n",
       "a:visited.sk-estimator-doc-link {\n",
       "  float: right;\n",
       "  font-size: smaller;\n",
       "  line-height: 1em;\n",
       "  font-family: monospace;\n",
       "  background-color: var(--sklearn-color-background);\n",
       "  border-radius: 1em;\n",
       "  height: 1em;\n",
       "  width: 1em;\n",
       "  text-decoration: none !important;\n",
       "  margin-left: 1ex;\n",
       "  /* unfitted */\n",
       "  border: var(--sklearn-color-unfitted-level-1) 1pt solid;\n",
       "  color: var(--sklearn-color-unfitted-level-1);\n",
       "}\n",
       "\n",
       ".sk-estimator-doc-link.fitted,\n",
       "a:link.sk-estimator-doc-link.fitted,\n",
       "a:visited.sk-estimator-doc-link.fitted {\n",
       "  /* fitted */\n",
       "  border: var(--sklearn-color-fitted-level-1) 1pt solid;\n",
       "  color: var(--sklearn-color-fitted-level-1);\n",
       "}\n",
       "\n",
       "/* On hover */\n",
       "div.sk-estimator:hover .sk-estimator-doc-link:hover,\n",
       ".sk-estimator-doc-link:hover,\n",
       "div.sk-label-container:hover .sk-estimator-doc-link:hover,\n",
       ".sk-estimator-doc-link:hover {\n",
       "  /* unfitted */\n",
       "  background-color: var(--sklearn-color-unfitted-level-3);\n",
       "  color: var(--sklearn-color-background);\n",
       "  text-decoration: none;\n",
       "}\n",
       "\n",
       "div.sk-estimator.fitted:hover .sk-estimator-doc-link.fitted:hover,\n",
       ".sk-estimator-doc-link.fitted:hover,\n",
       "div.sk-label-container:hover .sk-estimator-doc-link.fitted:hover,\n",
       ".sk-estimator-doc-link.fitted:hover {\n",
       "  /* fitted */\n",
       "  background-color: var(--sklearn-color-fitted-level-3);\n",
       "  color: var(--sklearn-color-background);\n",
       "  text-decoration: none;\n",
       "}\n",
       "\n",
       "/* Span, style for the box shown on hovering the info icon */\n",
       ".sk-estimator-doc-link span {\n",
       "  display: none;\n",
       "  z-index: 9999;\n",
       "  position: relative;\n",
       "  font-weight: normal;\n",
       "  right: .2ex;\n",
       "  padding: .5ex;\n",
       "  margin: .5ex;\n",
       "  width: min-content;\n",
       "  min-width: 20ex;\n",
       "  max-width: 50ex;\n",
       "  color: var(--sklearn-color-text);\n",
       "  box-shadow: 2pt 2pt 4pt #999;\n",
       "  /* unfitted */\n",
       "  background: var(--sklearn-color-unfitted-level-0);\n",
       "  border: .5pt solid var(--sklearn-color-unfitted-level-3);\n",
       "}\n",
       "\n",
       ".sk-estimator-doc-link.fitted span {\n",
       "  /* fitted */\n",
       "  background: var(--sklearn-color-fitted-level-0);\n",
       "  border: var(--sklearn-color-fitted-level-3);\n",
       "}\n",
       "\n",
       ".sk-estimator-doc-link:hover span {\n",
       "  display: block;\n",
       "}\n",
       "\n",
       "/* \"?\"-specific style due to the `<a>` HTML tag */\n",
       "\n",
       "#sk-container-id-1 a.estimator_doc_link {\n",
       "  float: right;\n",
       "  font-size: 1rem;\n",
       "  line-height: 1em;\n",
       "  font-family: monospace;\n",
       "  background-color: var(--sklearn-color-background);\n",
       "  border-radius: 1rem;\n",
       "  height: 1rem;\n",
       "  width: 1rem;\n",
       "  text-decoration: none;\n",
       "  /* unfitted */\n",
       "  color: var(--sklearn-color-unfitted-level-1);\n",
       "  border: var(--sklearn-color-unfitted-level-1) 1pt solid;\n",
       "}\n",
       "\n",
       "#sk-container-id-1 a.estimator_doc_link.fitted {\n",
       "  /* fitted */\n",
       "  border: var(--sklearn-color-fitted-level-1) 1pt solid;\n",
       "  color: var(--sklearn-color-fitted-level-1);\n",
       "}\n",
       "\n",
       "/* On hover */\n",
       "#sk-container-id-1 a.estimator_doc_link:hover {\n",
       "  /* unfitted */\n",
       "  background-color: var(--sklearn-color-unfitted-level-3);\n",
       "  color: var(--sklearn-color-background);\n",
       "  text-decoration: none;\n",
       "}\n",
       "\n",
       "#sk-container-id-1 a.estimator_doc_link.fitted:hover {\n",
       "  /* fitted */\n",
       "  background-color: var(--sklearn-color-fitted-level-3);\n",
       "}\n",
       "</style><div id=\"sk-container-id-1\" class=\"sk-top-container\"><div class=\"sk-text-repr-fallback\"><pre>LogisticRegression(max_iter=3000)</pre><b>In a Jupyter environment, please rerun this cell to show the HTML representation or trust the notebook. <br />On GitHub, the HTML representation is unable to render, please try loading this page with nbviewer.org.</b></div><div class=\"sk-container\" hidden><div class=\"sk-item\"><div class=\"sk-estimator fitted sk-toggleable\"><input class=\"sk-toggleable__control sk-hidden--visually\" id=\"sk-estimator-id-1\" type=\"checkbox\" checked><label for=\"sk-estimator-id-1\" class=\"sk-toggleable__label fitted sk-toggleable__label-arrow fitted\">&nbsp;&nbsp;LogisticRegression<a class=\"sk-estimator-doc-link fitted\" rel=\"noreferrer\" target=\"_blank\" href=\"https://scikit-learn.org/1.5/modules/generated/sklearn.linear_model.LogisticRegression.html\">?<span>Documentation for LogisticRegression</span></a><span class=\"sk-estimator-doc-link fitted\">i<span>Fitted</span></span></label><div class=\"sk-toggleable__content fitted\"><pre>LogisticRegression(max_iter=3000)</pre></div> </div></div></div></div>"
      ],
      "text/plain": [
       "LogisticRegression(max_iter=3000)"
      ]
     },
     "execution_count": 14,
     "metadata": {},
     "output_type": "execute_result"
    }
   ],
   "source": [
    "lr_model = LogisticRegression(max_iter=3000)\n",
    "lr_model.fit(X_train_scaled, y_train)"
   ]
  },
  {
   "cell_type": "code",
   "execution_count": 35,
   "id": "2df4128c-7f20-4f45-9762-f99a7255dcf4",
   "metadata": {},
   "outputs": [
    {
     "name": "stdout",
     "output_type": "stream",
     "text": [
      "ROC AUC score using Logistic regression is: 0.92\n",
      "--------------------------------------------------------\n",
      "F1 accuracy score using Logistic regression is: 0.9234\n"
     ]
    }
   ],
   "source": [
    "lr_y_train = lr_model.predict(X_train_scaled)\n",
    "roc_auc_train = round(roc_auc_score(y_train,lr_y_train),4)\n",
    "f1 = round(f1_score(y_train,lr_y_train),4)\n",
    "print(f\"ROC AUC score using Logistic regression is: {roc_auc}\")\n",
    "print(\"--------------------------------------------------------\")\n",
    "print(f\"F1 accuracy score using Logistic regression is: {f1}\")"
   ]
  },
  {
   "cell_type": "code",
   "execution_count": 36,
   "id": "68aee263-e6c7-486f-b65f-970108e61d03",
   "metadata": {},
   "outputs": [
    {
     "name": "stdout",
     "output_type": "stream",
     "text": [
      "ROC AUC score using Logistic regression is: 0.921\n",
      "--------------------------------------------------------\n",
      "F1 accuracy score using Logistic regression is: 0.922\n"
     ]
    }
   ],
   "source": [
    "lr_y_pred = lr_model.predict(X_valid_scaled)\n",
    "roc_auc = round(roc_auc_score(y_valid,lr_y_pred),4)\n",
    "f1 = round(f1_score(y_valid,lr_y_pred),4)\n",
    "print(f\"ROC AUC score using Logistic regression is: {roc_auc}\")\n",
    "print(\"--------------------------------------------------------\")\n",
    "print(f\"F1 accuracy score using Logistic regression is: {f1}\")"
   ]
  },
  {
   "cell_type": "markdown",
   "id": "75e4f71b-77fe-494a-80b2-380c79f4d069",
   "metadata": {},
   "source": [
    "#### **Logistic Regression Confusion Matrix Plot**"
   ]
  },
  {
   "cell_type": "code",
   "execution_count": 16,
   "id": "cad751a6-91d6-4775-880e-475390551d6c",
   "metadata": {},
   "outputs": [
    {
     "data": {
      "image/png": "[encoded data removed]",
      "text/plain": [
       "<Figure size 600x600 with 1 Axes>"
      ]
     },
     "metadata": {},
     "output_type": "display_data"
    }
   ],
   "source": [
    "cm = confusion_matrix(y_valid,lr_y_pred, normalize=\"true\")\n",
    "fig, ax = plt.subplots(figsize=(6, 6))\n",
    "disp = ConfusionMatrixDisplay(confusion_matrix=cm, display_labels=['negative','positive'])\n",
    "disp.plot(cmap=\"Blues\", values_format=\".2f\", ax=ax, colorbar=False)\n",
    "plt.title(\"Logistic Regression Sentiment Classifier Normalized Confusion Matrix\")\n",
    "plt.show()"
   ]
  },
  {
   "cell_type": "markdown",
   "id": "04882a6e-add5-4e93-b878-abc17fbccd28",
   "metadata": {},
   "source": [
    "### **DistilBERT Model Finetuning**"
   ]
  },
  {
   "cell_type": "code",
   "execution_count": 17,
   "id": "37b1ba02-2ca0-4f5c-ac22-bbbe327a3bd9",
   "metadata": {},
   "outputs": [
    {
     "name": "stderr",
     "output_type": "stream",
     "text": [
      "Some weights of DistilBertForSequenceClassification were not initialized from the model checkpoint at distilbert-base-uncased and are newly initialized: ['classifier.bias', 'classifier.weight', 'pre_classifier.bias', 'pre_classifier.weight']\n",
      "You should probably TRAIN this model on a down-stream task to be able to use it for predictions and inference.\n"
     ]
    }
   ],
   "source": [
    "ft_transformer_cls = (AutoModelForSequenceClassification.from_pretrained(model_name, num_labels=2).to(device))"
   ]
  },
  {
   "cell_type": "code",
   "execution_count": 18,
   "id": "1c93f104-26d6-46aa-af35-41a639a07086",
   "metadata": {},
   "outputs": [],
   "source": [
    "batch_size = 64\n",
    "logging_steps = len(yelp_bert_512_encoded[\"train\"]) // batch_size\n",
    "ft_transformer_model_name = f\"{model_name}-finetuned-yelp-sentiment\"\n",
    "training_args = TrainingArguments(output_dir=ft_transformer_model_name,\n",
    "                                  num_train_epochs=1,\n",
    "                                  learning_rate=2e-5,\n",
    "                                  per_device_train_batch_size=batch_size,\n",
    "                                  per_device_eval_batch_size=batch_size,\n",
    "                                  weight_decay=0.01,\n",
    "                                  eval_strategy=\"epoch\",\n",
    "                                  disable_tqdm=False,\n",
    "                                  logging_steps=logging_steps,\n",
    "                                  push_to_hub=True, \n",
    "                                  log_level=\"error\")"
   ]
  },
  {
   "cell_type": "code",
   "execution_count": 19,
   "id": "3355ba9f-104f-44e3-af88-1c18052d08eb",
   "metadata": {},
   "outputs": [
    {
     "name": "stderr",
     "output_type": "stream",
     "text": [
      "C:\\Users\\Adetomiwa\\AppData\\Local\\Temp\\ipykernel_22272\\4230324027.py:3: FutureWarning: `tokenizer` is deprecated and will be removed in version 5.0.0 for `Trainer.__init__`. Use `processing_class` instead.\n",
      "  trainer = Trainer(model=ft_transformer_cls,\n",
      "C:\\Users\\Adetomiwa\\miniconda3\\envs\\mytorchenv\\Lib\\site-packages\\transformers\\models\\distilbert\\modeling_distilbert.py:403: UserWarning: 1Torch was not compiled with flash attention. (Triggered internally at ..\\aten\\src\\ATen\\native\\transformers\\cuda\\sdp_utils.cpp:455.)\n",
      "  attn_output = torch.nn.functional.scaled_dot_product_attention(\n"
     ]
    },
    {
     "data": {
      "text/html": [
       "\n",
       "    <div>\n",
       "      \n",
       "      <progress value='5699' max='5699' style='width:300px; height:20px; vertical-align: middle;'></progress>\n",
       "      [5699/5699 1:50:58, Epoch 1/1]\n",
       "    </div>\n",
       "    <table border=\"1\" class=\"dataframe\">\n",
       "  <thead>\n",
       " <tr style=\"text-align: left;\">\n",
       "      <th>Epoch</th>\n",
       "      <th>Training Loss</th>\n",
       "      <th>Validation Loss</th>\n",
       "      <th>Roc Auc</th>\n",
       "      <th>F1</th>\n",
       "    </tr>\n",
       "  </thead>\n",
       "  <tbody>\n",
       "    <tr>\n",
       "      <td>1</td>\n",
       "      <td>0.104000</td>\n",
       "      <td>0.079143</td>\n",
       "      <td>0.971341</td>\n",
       "      <td>0.971319</td>\n",
       "    </tr>\n",
       "  </tbody>\n",
       "</table><p>"
      ],
      "text/plain": [
       "<IPython.core.display.HTML object>"
      ]
     },
     "metadata": {},
     "output_type": "display_data"
    }
   ],
   "source": [
    "tokenizer = AutoTokenizer.from_pretrained(model_name)\n",
    "\n",
    "trainer = Trainer(model=ft_transformer_cls,\n",
    "                  args=training_args, \n",
    "                  compute_metrics=compute_metrics,\n",
    "                  train_dataset=yelp_bert_512_encoded[\"train\"],\n",
    "                  eval_dataset=yelp_bert_512_encoded[\"validation\"],\n",
    "                  tokenizer=tokenizer)\n",
    "trainer.train();"
   ]
  },
  {
   "cell_type": "markdown",
   "id": "05e944c8-fd2a-45c2-9a60-6656305c72ad",
   "metadata": {},
   "source": [
    "## **Metrics Examination**"
   ]
  },
  {
   "cell_type": "markdown",
   "id": "7fc6a18d-13a1-4df1-9605-b7e99da6caf0",
   "metadata": {},
   "source": [
    "### **Train | Test | Validation Split Predictions**"
   ]
  },
  {
   "cell_type": "code",
   "execution_count": 20,
   "id": "0adcc06b-0efb-4e6f-98e7-e8c133bb6121",
   "metadata": {},
   "outputs": [
    {
     "data": {
      "text/html": [],
      "text/plain": [
       "<IPython.core.display.HTML object>"
      ]
     },
     "metadata": {},
     "output_type": "display_data"
    },
    {
     "data": {
      "text/html": [],
      "text/plain": [
       "<IPython.core.display.HTML object>"
      ]
     },
     "metadata": {},
     "output_type": "display_data"
    },
    {
     "data": {
      "text/html": [],
      "text/plain": [
       "<IPython.core.display.HTML object>"
      ]
     },
     "metadata": {},
     "output_type": "display_data"
    }
   ],
   "source": [
    "train_predictions = trainer.predict(yelp_bert_512_encoded[\"train\"])\n",
    "validation_predictions = trainer.predict(yelp_bert_512_encoded[\"validation\"])\n",
    "test_predictions = trainer.predict(yelp_bert_512_encoded[\"test\"])"
   ]
  },
  {
   "cell_type": "code",
   "execution_count": 21,
   "id": "7ac036dc-7a63-4477-9918-f8aecc71e01b",
   "metadata": {},
   "outputs": [
    {
     "data": {
      "text/plain": [
       "{'test_loss': 0.057866185903549194,\n",
       " 'test_roc_auc': 0.979775315830818,\n",
       " 'test_f1': 0.9797612130852572,\n",
       " 'test_runtime': 2027.219,\n",
       " 'test_samples_per_second': 179.896,\n",
       " 'test_steps_per_second': 2.811}"
      ]
     },
     "execution_count": 21,
     "metadata": {},
     "output_type": "execute_result"
    }
   ],
   "source": [
    "train_predictions.metrics"
   ]
  },
  {
   "cell_type": "code",
   "execution_count": 22,
   "id": "ee8a5478-1d4b-4ad1-8726-6a76f4ba0c27",
   "metadata": {},
   "outputs": [
    {
     "data": {
      "text/plain": [
       "{'test_loss': 0.07914280891418457,\n",
       " 'test_roc_auc': 0.97134109159121,\n",
       " 'test_f1': 0.9713190446349999,\n",
       " 'test_runtime': 507.3061,\n",
       " 'test_samples_per_second': 179.72,\n",
       " 'test_steps_per_second': 2.809}"
      ]
     },
     "execution_count": 22,
     "metadata": {},
     "output_type": "execute_result"
    }
   ],
   "source": [
    "validation_predictions.metrics"
   ]
  },
  {
   "cell_type": "code",
   "execution_count": 23,
   "id": "df21bbde-1089-4426-8938-88698a6768da",
   "metadata": {},
   "outputs": [
    {
     "data": {
      "text/plain": [
       "{'test_loss': 0.07874645292758942,\n",
       " 'test_roc_auc': 0.9710680350562525,\n",
       " 'test_f1': 0.9710448138535857,\n",
       " 'test_runtime': 633.3894,\n",
       " 'test_samples_per_second': 179.93,\n",
       " 'test_steps_per_second': 2.812}"
      ]
     },
     "execution_count": 23,
     "metadata": {},
     "output_type": "execute_result"
    }
   ],
   "source": [
    "test_predictions.metrics"
   ]
  },
  {
   "cell_type": "code",
   "execution_count": 24,
   "id": "66732b34-6737-486e-9b86-99f0c93fd34a",
   "metadata": {},
   "outputs": [],
   "source": [
    "train_preds = np.argmax(train_predictions.predictions, axis=1)\n",
    "validation_preds = np.argmax(validation_predictions.predictions, axis=1)\n",
    "test_preds = np.argmax(test_predictions.predictions, axis=1)"
   ]
  },
  {
   "cell_type": "markdown",
   "id": "17bc0dcb-54bc-4f14-894f-5a4b496780ca",
   "metadata": {},
   "source": [
    "### **Train Split Confusion Matrix Plots**"
   ]
  },
  {
   "cell_type": "code",
   "execution_count": 30,
   "id": "e213ac4d-e03e-4f00-a1f8-17e81a6b2cbf",
   "metadata": {},
   "outputs": [
    {
     "data": {
      "image/png": "[encoded data removed]",
      "text/plain": [
       "<Figure size 600x600 with 1 Axes>"
      ]
     },
     "metadata": {},
     "output_type": "display_data"
    }
   ],
   "source": [
    "cm = confusion_matrix(y_train,train_preds, normalize=\"true\")\n",
    "fig, ax = plt.subplots(figsize=(6, 6))\n",
    "disp = ConfusionMatrixDisplay(confusion_matrix=cm, display_labels=['negative','positive'])\n",
    "disp.plot(cmap=\"Blues\", values_format=\".2f\", ax=ax, colorbar=False)\n",
    "plt.title(\"Sentiment Classifier Normalized Confusion Matrix\")\n",
    "plt.show()"
   ]
  },
  {
   "cell_type": "markdown",
   "id": "1d761caa-9365-4f65-8762-060dc2f02345",
   "metadata": {},
   "source": [
    "### **Test Split Confusion Matrix Plots**"
   ]
  },
  {
   "cell_type": "code",
   "execution_count": 31,
   "id": "a206c901-8c36-41f1-b300-fee5daa423e6",
   "metadata": {},
   "outputs": [
    {
     "data": {
      "image/png": "[encoded data removed]",
      "text/plain": [
       "<Figure size 600x600 with 1 Axes>"
      ]
     },
     "metadata": {},
     "output_type": "display_data"
    }
   ],
   "source": [
    "cm = confusion_matrix(y_test,test_preds, normalize=\"true\")\n",
    "fig, ax = plt.subplots(figsize=(6, 6))\n",
    "disp = ConfusionMatrixDisplay(confusion_matrix=cm, display_labels=['negative','positive'])\n",
    "disp.plot(cmap=\"Blues\", values_format=\".2f\", ax=ax, colorbar=False)\n",
    "plt.title(\"Sentiment Classifier Normalized Confusion Matrix\")\n",
    "plt.show()"
   ]
  },
  {
   "cell_type": "markdown",
   "id": "0495f20a-8c8d-4e00-9acc-1bbbb66c2d46",
   "metadata": {},
   "source": [
    "### **Validation Split Confusion Matrix Plots**"
   ]
  },
  {
   "cell_type": "code",
   "execution_count": 32,
   "id": "8f50cd6b-94ed-43a3-84c5-2594cd97e35e",
   "metadata": {},
   "outputs": [
    {
     "data": {
      "image/png": "[encoded data removed]",
      "text/plain": [
       "<Figure size 600x600 with 1 Axes>"
      ]
     },
     "metadata": {},
     "output_type": "display_data"
    }
   ],
   "source": [
    "cm = confusion_matrix(y_valid,validation_preds, normalize=\"true\")\n",
    "fig, ax = plt.subplots(figsize=(6, 6))\n",
    "disp = ConfusionMatrixDisplay(confusion_matrix=cm, display_labels=['negative','positive'])\n",
    "disp.plot(cmap=\"Blues\", values_format=\".2f\", ax=ax, colorbar=False)\n",
    "plt.title(\"Sentiment Classifier Normalized Confusion Matrix\")\n",
    "plt.show()"
   ]
  }
 ],
 "metadata": {
  "kernelspec": {
   "display_name": "Python 3 (ipykernel)",
   "language": "python",
   "name": "python3"
  },
  "language_info": {
   "codemirror_mode": {
    "name": "ipython",
    "version": 3
   },
   "file_extension": ".py",
   "mimetype": "text/x-python",
   "name": "python",
   "nbconvert_exporter": "python",
   "pygments_lexer": "ipython3",
   "version": "3.12.4"
  }
 },
 "nbformat": 4,
 "nbformat_minor": 5
}
